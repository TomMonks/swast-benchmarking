{
 "cells": [
  {
   "cell_type": "markdown",
   "id": "scientific-separation",
   "metadata": {},
   "source": [
    "# Batch run: **stage 1 model selection.**\n",
    "\n",
    "This notebook runs the stage 1 model selection notebooks located in the same directory.\n",
    "\n",
    "> Note: these notebooks use TSCV and will take some time to run. "
   ]
  },
  {
   "cell_type": "markdown",
   "id": "welsh-colonial",
   "metadata": {},
   "source": [
    "## Imports"
   ]
  },
  {
   "cell_type": "code",
   "execution_count": null,
   "id": "outstanding-nudist",
   "metadata": {},
   "outputs": [],
   "source": [
    "import glob\n",
    "import nbformat\n",
    "import nbclient"
   ]
  },
  {
   "cell_type": "markdown",
   "id": "international-andrews",
   "metadata": {},
   "source": [
    "## Notebooks files\n",
    "\n",
    "Check the notebooks are found."
   ]
  },
  {
   "cell_type": "code",
   "execution_count": null,
   "id": "registered-elite",
   "metadata": {},
   "outputs": [],
   "source": [
    "path = '.'\n",
    "notebooks = glob.glob(path + '/*.ipynb', )\n",
    "#exclude batch run notebook.\n",
    "notebooks = [nb for nb in notebooks if nb[2:5] != '00a']\n",
    "print(f'*** {len(notebooks)} model selection notebooks found ***')\n",
    "for nb in notebooks:\n",
    "    print(nb)"
   ]
  },
  {
   "cell_type": "markdown",
   "id": "alpha-paper",
   "metadata": {},
   "source": [
    "## Run model selection\n",
    "\n",
    "Run the model selection for the notebooks found."
   ]
  },
  {
   "cell_type": "code",
   "execution_count": null,
   "id": "legal-vietnam",
   "metadata": {},
   "outputs": [],
   "source": [
    "#Run R script for Rssa seperately via bash\n",
    "!Rscript 08_ssa-tscv.R"
   ]
  },
  {
   "cell_type": "code",
   "execution_count": null,
   "id": "charming-ballet",
   "metadata": {},
   "outputs": [],
   "source": [
    "print('*** running stage 1: model selection***')\n",
    "for nb_file in notebooks:\n",
    "    print(f'Running: {nb_file}')\n",
    "    with open(nb_file) as f:\n",
    "        nb = nbformat.read(f, as_version=nbformat.NO_CONVERT)\n",
    "        nbclient.execute(nb)"
   ]
  }
 ],
 "metadata": {
  "kernelspec": {
   "display_name": "Python 3",
   "language": "python",
   "name": "python3"
  },
  "language_info": {
   "codemirror_mode": {
    "name": "ipython",
    "version": 3
   },
   "file_extension": ".py",
   "mimetype": "text/x-python",
   "name": "python",
   "nbconvert_exporter": "python",
   "pygments_lexer": "ipython3",
   "version": "3.7.5"
  }
 },
 "nbformat": 4,
 "nbformat_minor": 5
}
