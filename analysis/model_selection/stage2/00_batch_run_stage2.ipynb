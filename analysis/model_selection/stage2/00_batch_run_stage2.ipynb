{
 "cells": [
  {
   "cell_type": "markdown",
   "id": "accredited-linux",
   "metadata": {},
   "source": [
    "# Batch run: **stage 2 model selection.**\n",
    "\n",
    "This notebook runs the two notebooks **01_fbp-tscv-parallel.ipynb** and **02_ensemble-tscv-parallel.ipynb** that generate the stage two cross validation results.\n",
    "\n",
    "> Note: these notebooks use TSCV for 8 time series will take some time to run.  The TSCV is set to run in parallel using `joblib` to reduce runtime. "
   ]
  },
  {
   "cell_type": "markdown",
   "id": "regulated-statistics",
   "metadata": {},
   "source": [
    "## Imports"
   ]
  },
  {
   "cell_type": "code",
   "execution_count": 1,
   "id": "consolidated-scale",
   "metadata": {},
   "outputs": [],
   "source": [
    "import glob\n",
    "import nbformat\n",
    "import nbclient"
   ]
  },
  {
   "cell_type": "markdown",
   "id": "minus-ribbon",
   "metadata": {},
   "source": [
    "## Notebooks files\n",
    "\n",
    "Check the notebooks are found."
   ]
  },
  {
   "cell_type": "code",
   "execution_count": 2,
   "id": "dental-chick",
   "metadata": {},
   "outputs": [
    {
     "name": "stdout",
     "output_type": "stream",
     "text": [
      "*** model selection notebooks found ***\n",
      "./02_ensemble-tscv-parallel.ipynb\n",
      "./01_fbp-tscv-parallel.ipynb\n"
     ]
    }
   ],
   "source": [
    "path = '.'\n",
    "notebooks = glob.glob(path + '/*.ipynb', )\n",
    "#exclude batch run notebook.\n",
    "notebooks = [nb for nb in notebooks if nb[2:4] != '00']\n",
    "print('*** model selection notebooks found ***')\n",
    "for nb in notebooks:\n",
    "    print(nb)"
   ]
  },
  {
   "cell_type": "markdown",
   "id": "opening-batch",
   "metadata": {},
   "source": [
    "## Run model selection\n",
    "\n",
    "Run the model selection for the notebooks found."
   ]
  },
  {
   "cell_type": "code",
   "execution_count": 3,
   "id": "attempted-scale",
   "metadata": {},
   "outputs": [
    {
     "name": "stdout",
     "output_type": "stream",
     "text": [
      "*** running stage 2: model selection***\n",
      "Running: ./02_ensemble-tscv-parallel.ipynb\n",
      "Running: ./01_fbp-tscv-parallel.ipynb\n"
     ]
    }
   ],
   "source": [
    "print('*** running stage 2: model selection***')\n",
    "for nb_file in notebooks:\n",
    "    print(f'Running: {nb_file}')\n",
    "    with open(nb_file) as f:\n",
    "        nb = nbformat.read(f, as_version=nbformat.NO_CONVERT)\n",
    "        nbclient.execute(nb)"
   ]
  }
 ],
 "metadata": {
  "kernelspec": {
   "display_name": "Python 3",
   "language": "python",
   "name": "python3"
  },
  "language_info": {
   "codemirror_mode": {
    "name": "ipython",
    "version": 3
   },
   "file_extension": ".py",
   "mimetype": "text/x-python",
   "name": "python",
   "nbconvert_exporter": "python",
   "pygments_lexer": "ipython3",
   "version": "3.7.5"
  }
 },
 "nbformat": 4,
 "nbformat_minor": 5
}
