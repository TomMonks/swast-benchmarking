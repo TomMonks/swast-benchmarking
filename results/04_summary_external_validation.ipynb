{
 "cells": [
  {
   "cell_type": "markdown",
   "metadata": {},
   "source": [
    "# External Validation of SWAST Forecasting Model\n",
    "## Overall results summary.\n",
    "\n",
    "This notebook generates the overall results summary for the MASE, and prediction intervals for LAS, YAS and WAST."
   ]
  },
  {
   "cell_type": "code",
   "execution_count": 1,
   "metadata": {},
   "outputs": [
    {
     "name": "stdout",
     "output_type": "stream",
     "text": [
      "******************Summary of External validation results*****************\n",
      "\n",
      "\n"
     ]
    }
   ],
   "source": [
    "print('******************Summary of External validation results*****************\\n\\n')"
   ]
  },
  {
   "cell_type": "code",
   "execution_count": 2,
   "metadata": {},
   "outputs": [],
   "source": [
    "import numpy as np\n",
    "import pandas as pd\n",
    "import matplotlib.pyplot as plt\n",
    "import seaborn as sns\n",
    "\n",
    "import os\n",
    "from os import listdir\n",
    "from os.path import isfile, join\n",
    "\n",
    "from scipy.stats import norm, t\n",
    "\n",
    "sns.set(style=\"whitegrid\")"
   ]
  },
  {
   "cell_type": "code",
   "execution_count": 3,
   "metadata": {},
   "outputs": [
    {
     "data": {
      "text/plain": [
       "'/home/tom/Documents/code/swast-benchmarking/results'"
      ]
     },
     "execution_count": 3,
     "metadata": {},
     "output_type": "execute_result"
    }
   ],
   "source": [
    "cwd = os.getcwd()\n",
    "cwd"
   ]
  },
  {
   "cell_type": "code",
   "execution_count": 4,
   "metadata": {},
   "outputs": [],
   "source": [
    "if cwd[-7:] != \"results\":\n",
    "    mypath = './results/external_validation/'\n",
    "    TABLE_PATH = './paper/tables/'\n",
    "    FIGURE_PATH = './paper/figures/'\n",
    "    APPENDIX_PATH = './paper/appendix/'\n",
    "else:\n",
    "    mypath = './external_validation/'\n",
    "    TABLE_PATH = '../paper/tables/'\n",
    "    FIGURE_PATH = '../paper/figures/'\n",
    "    APPENDIX_PATH = '../paper/appendix/'"
   ]
  },
  {
   "cell_type": "code",
   "execution_count": 5,
   "metadata": {},
   "outputs": [],
   "source": [
    "result_files = [os.path.join(dp, f) for dp, dn, filenames in os.walk(mypath) \n",
    "                for f in filenames if os.path.splitext(f)[1] == '.csv']"
   ]
  },
  {
   "cell_type": "code",
   "execution_count": 6,
   "metadata": {},
   "outputs": [],
   "source": [
    "results_mean = pd.DataFrame()\n",
    "results_med = pd.DataFrame()\n",
    "results_mean_std = pd.DataFrame()\n",
    "results_all = pd.DataFrame()"
   ]
  },
  {
   "cell_type": "markdown",
   "metadata": {},
   "source": [
    "## Point Estimate Results"
   ]
  },
  {
   "cell_type": "code",
   "execution_count": 7,
   "metadata": {},
   "outputs": [],
   "source": [
    "error_measures = ['smape', 'rmse', 'mase', 'coverage_80', 'coverage_95']"
   ]
  },
  {
   "cell_type": "code",
   "execution_count": 8,
   "metadata": {},
   "outputs": [
    {
     "data": {
      "text/plain": [
       "'./external_validation/'"
      ]
     },
     "execution_count": 8,
     "metadata": {},
     "output_type": "execute_result"
    }
   ],
   "source": [
    "mypath"
   ]
  },
  {
   "cell_type": "code",
   "execution_count": 9,
   "metadata": {},
   "outputs": [],
   "source": [
    "#start = len('/external_validation/')\n",
    "start = len(mypath) - 1\n",
    "for metric in error_measures:\n",
    "    to_read = [filename for filename in result_files if metric in filename]\n",
    "    model_names = ['.' + name[start:name.index('_', start)] for name in to_read]\n",
    "    \n",
    "    for filename, model_name in zip(to_read, model_names):\n",
    "        df = pd.read_csv(filename, index_col=0)\n",
    "        if 'snaive' not in model_name:\n",
    "            prefix = model_name + '_' + metric\n",
    "            results_mean[prefix + '_mean'] = df.mean()\n",
    "            results_mean[prefix  + '_std'] = df.std()\n",
    "            results_med[prefix + '_med'] = df.median()\n",
    "            results_med[prefix + '_iqr'] = df.quantile(0.75) - df.quantile(0.25)\n",
    "\n",
    "            results_mean_std[prefix] = results_mean[prefix + '_mean'].map('{:,.2f}'.format) \\\n",
    "                + ' (' + results_mean[prefix  + '_std'].map('{:,.2f}'.format) + ')'\n",
    "            \n",
    "            if 'mase' in filename:\n",
    "                results_all[prefix] = df.to_numpy().flatten()"
   ]
  },
  {
   "cell_type": "markdown",
   "metadata": {},
   "source": [
    "## Seperate dataframes for prediction intervals"
   ]
  },
  {
   "cell_type": "code",
   "execution_count": 10,
   "metadata": {},
   "outputs": [],
   "source": [
    "summary_fa = results_mean.filter(\n",
    "    like=\"coverage_95\").filter(like=\"fbp-arima\").filter(like='mean')\n",
    "summary_fa2 = results_mean.filter(\n",
    "    like=\"coverage_80\").filter(like=\"fbp-arima\").filter(like='mean')"
   ]
  },
  {
   "cell_type": "markdown",
   "metadata": {},
   "source": [
    "# Overall statistics\n",
    "\n",
    "## Mean absolute scaled error"
   ]
  },
  {
   "cell_type": "code",
   "execution_count": 11,
   "metadata": {},
   "outputs": [
    {
     "name": "stdout",
     "output_type": "stream",
     "text": [
      "\n",
      "Overall External Evaluation Statistics for MASE\n",
      "mean: 0.7275 95% CI (0.7193-0.7357)\n",
      "median: 0.734, IQR 0.084\n",
      "middle 90%: 0.641 - 0.834\n"
     ]
    },
    {
     "data": {
      "image/png": "[encoded data removed]",
      "text/plain": [
       "<Figure size 432x288 with 1 Axes>"
      ]
     },
     "metadata": {},
     "output_type": "display_data"
    }
   ],
   "source": [
    "alpha = 0.05\n",
    "\n",
    "#overall MASE\n",
    "summary_fa = results_mean.filter(\n",
    "    like=\"mase\").filter(like=\"fbp-arima\").filter(like='mean')\n",
    "\n",
    "mean = summary_fa.to_numpy().flatten().mean()\n",
    "print(f'\\nOverall External Evaluation Statistics for MASE')\n",
    "\n",
    "#sample std\n",
    "std = summary_fa.to_numpy().flatten().std(ddof=1)\n",
    "\n",
    "n = summary_fa.to_numpy().flatten().shape[0]\n",
    "\n",
    "#Confidence interval calculation\n",
    "se = std / np.sqrt(n)\n",
    "z = np.abs(t.ppf(alpha / 2, n - 1))\n",
    "hw = z * se\n",
    "lower = mean - hw\n",
    "upper = mean + hw\n",
    "\n",
    "#lower and upper 95% CI\n",
    "print(f'mean: {mean:.4f} 95% CI ({lower:.4f}-{upper:.4f})')\n",
    "\n",
    "#median\n",
    "med = np.percentile(summary_fa.to_numpy().flatten(), 50)\n",
    "lq = np.percentile(summary_fa.to_numpy().flatten(), 25)\n",
    "uq = np.percentile(summary_fa.to_numpy().flatten(), 75)\n",
    "print(f'median: {med:.3f}, IQR {uq - lq:.3f}')\n",
    "\n",
    "\n",
    "#middle 90% of data lies between\n",
    "fifth = np.percentile(summary_fa.to_numpy().flatten(), 5)\n",
    "ninetyfifth = np.percentile(summary_fa.to_numpy().flatten(), 95)\n",
    "print(f'middle 90%: {fifth:.3f} - {ninetyfifth:.3f}')\n",
    "\n",
    "plt.hist(summary_fa.to_numpy().flatten());"
   ]
  },
  {
   "cell_type": "markdown",
   "metadata": {},
   "source": [
    "## 80% Prediction interval coverage"
   ]
  },
  {
   "cell_type": "code",
   "execution_count": 12,
   "metadata": {},
   "outputs": [
    {
     "name": "stdout",
     "output_type": "stream",
     "text": [
      "\n",
      "Overall External Evaluation Statistics for 80% PI coverage\n",
      "mean: 0.8332 95% CI (0.8282-0.8381)\n",
      "median: 0.837, IQR 0.051\n",
      "middle 90%: 0.773 - 0.878\n"
     ]
    },
    {
     "data": {
      "image/png": "[encoded data removed]",
      "text/plain": [
       "<Figure size 432x288 with 1 Axes>"
      ]
     },
     "metadata": {},
     "output_type": "display_data"
    }
   ],
   "source": [
    "alpha = 0.05\n",
    "\n",
    "#overall 80% PI coverage\n",
    "mean = summary_fa2.to_numpy().flatten().mean()\n",
    "print(f'\\nOverall External Evaluation Statistics for 80% PI coverage')\n",
    "\n",
    "#sample std\n",
    "std = summary_fa2.to_numpy().flatten().std(ddof=1)\n",
    "\n",
    "n = summary_fa2.to_numpy().flatten().shape[0]\n",
    "\n",
    "#Confidence interval calculation\n",
    "se = std / np.sqrt(n)\n",
    "z = np.abs(t.ppf(alpha / 2, n - 1))\n",
    "hw = z * se\n",
    "lower = mean - hw\n",
    "upper = mean + hw\n",
    "\n",
    "#lower and upper 95% CI\n",
    "print(f'mean: {mean:.4f} 95% CI ({lower:.4f}-{upper:.4f})')\n",
    "\n",
    "#median\n",
    "med = np.percentile(summary_fa2.to_numpy().flatten(), 50)\n",
    "lq = np.percentile(summary_fa2.to_numpy().flatten(), 25)\n",
    "uq = np.percentile(summary_fa2.to_numpy().flatten(), 75)\n",
    "print(f'median: {med:.3f}, IQR {uq - lq:.3f}')\n",
    "\n",
    "\n",
    "#middle 90% of data lies between\n",
    "fifth = np.percentile(summary_fa2.to_numpy().flatten(), 5)\n",
    "ninetyfifth = np.percentile(summary_fa2.to_numpy().flatten(), 95)\n",
    "print(f'middle 90%: {fifth:.3f} - {ninetyfifth:.3f}')\n",
    "\n",
    "plt.hist(summary_fa.to_numpy().flatten());"
   ]
  },
  {
   "cell_type": "markdown",
   "metadata": {},
   "source": [
    "## 95% prediction interval coverage"
   ]
  },
  {
   "cell_type": "code",
   "execution_count": 13,
   "metadata": {},
   "outputs": [
    {
     "name": "stdout",
     "output_type": "stream",
     "text": [
      "\n",
      "Overall External Evaluation Statistics for 95% PI Coverage\n",
      "mean: 0.9649 95% CI (0.9626-0.9671)\n",
      "median: 0.970, IQR 0.019\n",
      "middle 90%: 0.936 - 0.983\n"
     ]
    },
    {
     "data": {
      "image/png": "[encoded data removed]",
      "text/plain": [
       "<Figure size 432x288 with 1 Axes>"
      ]
     },
     "metadata": {},
     "output_type": "display_data"
    }
   ],
   "source": [
    "summary_fa = results_mean.filter(\n",
    "    like=\"coverage_95\").filter(like=\"fbp-arima\").filter(like='mean')\n",
    "\n",
    "mean = summary_fa.to_numpy().flatten().mean()\n",
    "print(f'\\nOverall External Evaluation Statistics for 95% PI Coverage')\n",
    "\n",
    "#sample std\n",
    "std = summary_fa.to_numpy().flatten().std(ddof=1)\n",
    "\n",
    "n = summary_fa.to_numpy().flatten().shape[0]\n",
    "\n",
    "#Confidence interval calculation\n",
    "se = std / np.sqrt(n)\n",
    "z = np.abs(t.ppf(alpha / 2, n - 1))\n",
    "hw = z * se\n",
    "lower = mean - hw\n",
    "upper = mean + hw\n",
    "\n",
    "#lower and upper 95% CI\n",
    "print(f'mean: {mean:.4f} 95% CI ({lower:.4f}-{upper:.4f})')\n",
    "\n",
    "#median\n",
    "med = np.percentile(summary_fa.to_numpy().flatten(), 50)\n",
    "lq = np.percentile(summary_fa.to_numpy().flatten(), 25)\n",
    "uq = np.percentile(summary_fa.to_numpy().flatten(), 75)\n",
    "print(f'median: {med:.3f}, IQR {uq - lq:.3f}')\n",
    "\n",
    "\n",
    "#middle 90% of data lies between\n",
    "fifth = np.percentile(summary_fa.to_numpy().flatten(), 5)\n",
    "ninetyfifth = np.percentile(summary_fa.to_numpy().flatten(), 95)\n",
    "print(f'middle 90%: {fifth:.3f} - {ninetyfifth:.3f}')\n",
    "\n",
    "plt.hist(summary_fa.to_numpy().flatten());"
   ]
  },
  {
   "cell_type": "markdown",
   "metadata": {},
   "source": [
    "## Overall Results Summary Table"
   ]
  },
  {
   "cell_type": "code",
   "execution_count": 14,
   "metadata": {},
   "outputs": [],
   "source": [
    "#filter for mase - mean results\n",
    "region_means = results_mean.filter(\n",
    "    like=\"mase\").filter(like='mean').filter(like='fbp-arima').mean().sort_index()"
   ]
  },
  {
   "cell_type": "code",
   "execution_count": 15,
   "metadata": {},
   "outputs": [],
   "source": [
    "#filter for mase stdev\n",
    "region_std = results_mean.filter(\n",
    "    like=\"mase\").filter(like='std').filter(like='fbp-arima').mean().sort_index()"
   ]
  },
  {
   "cell_type": "code",
   "execution_count": 16,
   "metadata": {},
   "outputs": [],
   "source": [
    "#coverage mean\n",
    "region_95_mean = results_mean.filter(like=\"coverage_95\").filter(like='mean').filter(like='fbp-arima').mean().sort_index()\n",
    "region_80_mean = results_mean.filter(like=\"coverage_80\").filter(like='mean').filter(like='fbp-arima').mean().sort_index()"
   ]
  },
  {
   "cell_type": "code",
   "execution_count": 17,
   "metadata": {},
   "outputs": [],
   "source": [
    "#coverage stdev\n",
    "region_95_std = results_mean.filter(like=\"coverage_95\").filter(like='std').filter(like='fbp-arima').mean().sort_index()\n",
    "region_80_std = results_mean.filter(like=\"coverage_80\").filter(like='std').filter(like='fbp-arima').mean().sort_index()"
   ]
  },
  {
   "cell_type": "code",
   "execution_count": 18,
   "metadata": {},
   "outputs": [],
   "source": [
    "#create index of dataframe\n",
    "comparisons = list(region_means.index)\n",
    "idx = [i.replace('_mase_mean', '') for i in comparisons]"
   ]
  },
  {
   "cell_type": "code",
   "execution_count": 19,
   "metadata": {},
   "outputs": [],
   "source": [
    "#construct table\n",
    "df_regions = pd.DataFrame(region_means.to_numpy(), columns=['mean'])\n",
    "df_regions['std'] = region_std.to_numpy()\n",
    "df_regions['mean_80'] = region_80_mean.to_numpy()\n",
    "df_regions['std_80'] = region_80_std.to_numpy()\n",
    "df_regions['mean_95'] = region_95_mean.to_numpy()\n",
    "df_regions['std_95'] = region_95_std.to_numpy()\n",
    "df_regions['MASE'] = df_regions['mean'].map('{:,.2f}'.format) \\\n",
    "            + ' (' + df_regions['std'].map('{:,.2f}'.format) + ')'\n",
    "\n",
    "df_regions['Coverage 80'] = df_regions['mean_80'].map('{:,.2f}'.format) \\\n",
    "            + ' (' + df_regions['std_80'].map('{:,.2f}'.format) + ')'\n",
    "\n",
    "df_regions['Coverage 95'] = df_regions['mean_95'].map('{:,.2f}'.format) \\\n",
    "            + ' (' + df_regions['std_95'].map('{:,.2f}'.format) + ')'\n",
    "\n",
    "df_regions.index = idx\n",
    "df_regions = df_regions.drop(['mean', 'std', 'mean_80', 'std_80', \n",
    "                              'mean_95', 'std_95'], axis=1)"
   ]
  },
  {
   "cell_type": "code",
   "execution_count": 20,
   "metadata": {},
   "outputs": [
    {
     "data": {
      "text/plain": [
       "(15, 3)"
      ]
     },
     "execution_count": 20,
     "metadata": {},
     "output_type": "execute_result"
    }
   ],
   "source": [
    "df_regions.shape"
   ]
  },
  {
   "cell_type": "code",
   "execution_count": 21,
   "metadata": {},
   "outputs": [],
   "source": [
    "#trim out trust and region intro seperate columns\n",
    "df_regions['trust'] = [i[2:i.find('/', 2)] for i in list(df_regions.index)]\n",
    "df_regions['region'] = [i[i.find('/', 2)+1:] for i in list(df_regions.index)]"
   ]
  },
  {
   "cell_type": "code",
   "execution_count": 22,
   "metadata": {},
   "outputs": [
    {
     "name": "stdout",
     "output_type": "stream",
     "text": [
      "**Table 5: External validation: Point forecast and coverage performance by region.\n"
     ]
    },
    {
     "data": {
      "text/html": [
       "<div>\n",
       "<style scoped>\n",
       "    .dataframe tbody tr th:only-of-type {\n",
       "        vertical-align: middle;\n",
       "    }\n",
       "\n",
       "    .dataframe tbody tr th {\n",
       "        vertical-align: top;\n",
       "    }\n",
       "\n",
       "    .dataframe thead th {\n",
       "        text-align: right;\n",
       "    }\n",
       "</style>\n",
       "<table border=\"1\" class=\"dataframe\">\n",
       "  <thead>\n",
       "    <tr style=\"text-align: right;\">\n",
       "      <th></th>\n",
       "      <th></th>\n",
       "      <th>MASE</th>\n",
       "      <th>Coverage 80</th>\n",
       "      <th>Coverage 95</th>\n",
       "    </tr>\n",
       "    <tr>\n",
       "      <th>trust</th>\n",
       "      <th>region</th>\n",
       "      <th></th>\n",
       "      <th></th>\n",
       "      <th></th>\n",
       "    </tr>\n",
       "  </thead>\n",
       "  <tbody>\n",
       "    <tr>\n",
       "      <th rowspan=\"5\" valign=\"top\">london</th>\n",
       "      <th>North Central</th>\n",
       "      <td>0.76 (0.11)</td>\n",
       "      <td>0.84 (0.06)</td>\n",
       "      <td>0.94 (0.04)</td>\n",
       "    </tr>\n",
       "    <tr>\n",
       "      <th>North East</th>\n",
       "      <td>0.74 (0.08)</td>\n",
       "      <td>0.87 (0.06)</td>\n",
       "      <td>0.97 (0.03)</td>\n",
       "    </tr>\n",
       "    <tr>\n",
       "      <th>North West</th>\n",
       "      <td>0.75 (0.11)</td>\n",
       "      <td>0.86 (0.07)</td>\n",
       "      <td>0.97 (0.03)</td>\n",
       "    </tr>\n",
       "    <tr>\n",
       "      <th>South East</th>\n",
       "      <td>0.70 (0.10)</td>\n",
       "      <td>0.85 (0.06)</td>\n",
       "      <td>0.98 (0.03)</td>\n",
       "    </tr>\n",
       "    <tr>\n",
       "      <th>South West</th>\n",
       "      <td>0.68 (0.10)</td>\n",
       "      <td>0.86 (0.06)</td>\n",
       "      <td>0.97 (0.04)</td>\n",
       "    </tr>\n",
       "    <tr>\n",
       "      <th rowspan=\"3\" valign=\"top\">wales</th>\n",
       "      <th>Control Central and West</th>\n",
       "      <td>0.69 (0.12)</td>\n",
       "      <td>0.82 (0.09)</td>\n",
       "      <td>0.96 (0.04)</td>\n",
       "    </tr>\n",
       "    <tr>\n",
       "      <th>Control North</th>\n",
       "      <td>0.73 (0.14)</td>\n",
       "      <td>0.79 (0.10)</td>\n",
       "      <td>0.97 (0.04)</td>\n",
       "    </tr>\n",
       "    <tr>\n",
       "      <th>Control South East</th>\n",
       "      <td>0.64 (0.10)</td>\n",
       "      <td>0.87 (0.06)</td>\n",
       "      <td>0.98 (0.04)</td>\n",
       "    </tr>\n",
       "    <tr>\n",
       "      <th rowspan=\"5\" valign=\"top\">york</th>\n",
       "      <th>ABL</th>\n",
       "      <td>0.67 (0.11)</td>\n",
       "      <td>0.86 (0.05)</td>\n",
       "      <td>0.98 (0.02)</td>\n",
       "    </tr>\n",
       "    <tr>\n",
       "      <th>CKW</th>\n",
       "      <td>0.74 (0.09)</td>\n",
       "      <td>0.82 (0.07)</td>\n",
       "      <td>0.96 (0.03)</td>\n",
       "    </tr>\n",
       "    <tr>\n",
       "      <th>Humb and ER</th>\n",
       "      <td>0.77 (0.11)</td>\n",
       "      <td>0.79 (0.08)</td>\n",
       "      <td>0.94 (0.04)</td>\n",
       "    </tr>\n",
       "    <tr>\n",
       "      <th>North Yorks</th>\n",
       "      <td>0.83 (0.15)</td>\n",
       "      <td>0.77 (0.09)</td>\n",
       "      <td>0.94 (0.06)</td>\n",
       "    </tr>\n",
       "    <tr>\n",
       "      <th>South</th>\n",
       "      <td>0.76 (0.11)</td>\n",
       "      <td>0.81 (0.08)</td>\n",
       "      <td>0.96 (0.04)</td>\n",
       "    </tr>\n",
       "  </tbody>\n",
       "</table>\n",
       "</div>"
      ],
      "text/plain": [
       "                                        MASE  Coverage 80  Coverage 95\n",
       "trust  region                                                         \n",
       "london North Central             0.76 (0.11)  0.84 (0.06)  0.94 (0.04)\n",
       "       North East                0.74 (0.08)  0.87 (0.06)  0.97 (0.03)\n",
       "       North West                0.75 (0.11)  0.86 (0.07)  0.97 (0.03)\n",
       "       South East                0.70 (0.10)  0.85 (0.06)  0.98 (0.03)\n",
       "       South West                0.68 (0.10)  0.86 (0.06)  0.97 (0.04)\n",
       "wales  Control Central and West  0.69 (0.12)  0.82 (0.09)  0.96 (0.04)\n",
       "       Control North             0.73 (0.14)  0.79 (0.10)  0.97 (0.04)\n",
       "       Control South East        0.64 (0.10)  0.87 (0.06)  0.98 (0.04)\n",
       "york   ABL                       0.67 (0.11)  0.86 (0.05)  0.98 (0.02)\n",
       "       CKW                       0.74 (0.09)  0.82 (0.07)  0.96 (0.03)\n",
       "       Humb and ER               0.77 (0.11)  0.79 (0.08)  0.94 (0.04)\n",
       "       North Yorks               0.83 (0.15)  0.77 (0.09)  0.94 (0.06)\n",
       "       South                     0.76 (0.11)  0.81 (0.08)  0.96 (0.04)"
      ]
     },
     "execution_count": 22,
     "metadata": {},
     "output_type": "execute_result"
    }
   ],
   "source": [
    "#summary frame of results\n",
    "print(\"**Table 5: External validation: Point forecast and coverage performance by region.\")\n",
    "\n",
    "df_regions['region'] = [str(i).replace('-fbp-arima', '') \n",
    "                        for i in list(df_regions.region)]\n",
    "\n",
    "df_regions.index = pd.MultiIndex.from_frame(df_regions[['trust', 'region']])\n",
    "df_regions.drop(['trust'], axis=1, inplace=True)\n",
    "df_regions.drop(['region'], axis=1, inplace=True)\n",
    "\n",
    "df_regions.drop(('york','Trust'), axis=0, inplace=True)\n",
    "df_regions.drop(('wales','Trust'), axis=0, inplace=True)\n",
    "df_regions"
   ]
  },
  {
   "cell_type": "code",
   "execution_count": 23,
   "metadata": {},
   "outputs": [],
   "source": [
    "df_regions.sort_index().to_latex(f'{TABLE_PATH}Table5.tex')"
   ]
  },
  {
   "cell_type": "code",
   "execution_count": 24,
   "metadata": {},
   "outputs": [
    {
     "name": "stdout",
     "output_type": "stream",
     "text": [
      "                                        MASE  Coverage 80  Coverage 95\n",
      "trust  region                                                         \n",
      "london North Central             0.76 (0.11)  0.84 (0.06)  0.94 (0.04)\n",
      "       North East                0.74 (0.08)  0.87 (0.06)  0.97 (0.03)\n",
      "       North West                0.75 (0.11)  0.86 (0.07)  0.97 (0.03)\n",
      "       South East                0.70 (0.10)  0.85 (0.06)  0.98 (0.03)\n",
      "       South West                0.68 (0.10)  0.86 (0.06)  0.97 (0.04)\n",
      "wales  Control Central and West  0.69 (0.12)  0.82 (0.09)  0.96 (0.04)\n",
      "       Control North             0.73 (0.14)  0.79 (0.10)  0.97 (0.04)\n",
      "       Control South East        0.64 (0.10)  0.87 (0.06)  0.98 (0.04)\n",
      "york   ABL                       0.67 (0.11)  0.86 (0.05)  0.98 (0.02)\n",
      "       CKW                       0.74 (0.09)  0.82 (0.07)  0.96 (0.03)\n",
      "       Humb and ER               0.77 (0.11)  0.79 (0.08)  0.94 (0.04)\n",
      "       North Yorks               0.83 (0.15)  0.77 (0.09)  0.94 (0.06)\n",
      "       South                     0.76 (0.11)  0.81 (0.08)  0.96 (0.04)\n"
     ]
    }
   ],
   "source": [
    "print(df_regions)"
   ]
  },
  {
   "cell_type": "markdown",
   "metadata": {},
   "source": [
    "# End"
   ]
  }
 ],
 "metadata": {
  "kernelspec": {
   "display_name": "Python 3",
   "language": "python",
   "name": "python3"
  },
  "language_info": {
   "codemirror_mode": {
    "name": "ipython",
    "version": 3
   },
   "file_extension": ".py",
   "mimetype": "text/x-python",
   "name": "python",
   "nbconvert_exporter": "python",
   "pygments_lexer": "ipython3",
   "version": "3.7.5"
  }
 },
 "nbformat": 4,
 "nbformat_minor": 4
}
